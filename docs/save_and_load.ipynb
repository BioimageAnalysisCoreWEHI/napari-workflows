{
 "cells": [
  {
   "cell_type": "markdown",
   "id": "79d3694d-96fe-49d0-b7b9-0e287577bdbe",
   "metadata": {},
   "source": [
    "# Saving and loading workflows"
   ]
  },
  {
   "cell_type": "code",
   "execution_count": 1,
   "id": "f4c98c95",
   "metadata": {},
   "outputs": [],
   "source": [
    "from napari_workflows import Workflow, load_workflow, save_workflow\n",
    "\n",
    "from skimage.io import imread, imshow\n",
    "from skimage.filters import gaussian\n",
    "import numpy as np"
   ]
  },
  {
   "cell_type": "markdown",
   "id": "25d3c480-8393-4aa1-91dc-acedce15a2ec",
   "metadata": {},
   "source": [
    "For testing purposes, we setup a simple workflow and set an input image."
   ]
  },
  {
   "cell_type": "code",
   "execution_count": 2,
   "id": "e2d741d1-cb65-48f8-83e0-f3c91541a9e5",
   "metadata": {},
   "outputs": [
    {
     "name": "stdout",
     "output_type": "stream",
     "text": [
      "Workflow:\n",
      "denoised <- (<function gaussian at 0x7fb8063f3c10>, 'input', 2, None, 'nearest', 0, None, False, 4.0)\n",
      "input <- [[0.09847054 0.92455194 0.6204251 ]\n",
      " [0.9236128  0.63738229 0.19929676]\n",
      " [0.07410387 0.91242728 0.53134092]]\n",
      "\n"
     ]
    }
   ],
   "source": [
    "w = Workflow()\n",
    "\n",
    "# define denoising\n",
    "w.set(\"denoised\", gaussian, \"input\", sigma=2)\n",
    "\n",
    "w.set(\"input\", np.random.random((3, 3)))\n",
    "\n",
    "print(str(w))"
   ]
  },
  {
   "cell_type": "markdown",
   "id": "1894cedd-a017-4e3e-8454-a29d07f112d3",
   "metadata": {},
   "source": [
    "Next, we save the workflow to disk."
   ]
  },
  {
   "cell_type": "code",
   "execution_count": 3,
   "id": "dbfed884",
   "metadata": {},
   "outputs": [],
   "source": [
    "filename = \"test.yaml\"\n",
    "\n",
    "save_workflow(filename, w)"
   ]
  },
  {
   "cell_type": "markdown",
   "id": "2eb1c428-c67d-4265-a45a-31f4f9cff128",
   "metadata": {},
   "source": [
    "After loading the workflow, we notice that it does not contain any image data. It only consists of processing steps."
   ]
  },
  {
   "cell_type": "code",
   "execution_count": 4,
   "id": "24006ceb",
   "metadata": {},
   "outputs": [
    {
     "name": "stdout",
     "output_type": "stream",
     "text": [
      "Workflow:\n",
      "denoised <- (<function gaussian at 0x7fb8063f3c10>, 'input', 2, None, 'nearest', 0, None, False, 4.0)\n",
      "\n"
     ]
    }
   ],
   "source": [
    "new_w = load_workflow(filename)\n",
    "print(new_w)"
   ]
  },
  {
   "cell_type": "markdown",
   "id": "b81f50ba-be22-471c-9ad7-bfeb2e794db9",
   "metadata": {},
   "source": [
    "Hence, we need to set an input image again. This image can have a different shape, but it is recommended that the input image has the same dimensionality as in the workflow before."
   ]
  },
  {
   "cell_type": "code",
   "execution_count": 5,
   "id": "23a0ff91-c514-4ae8-ad59-d30a3acb357b",
   "metadata": {},
   "outputs": [
    {
     "name": "stdout",
     "output_type": "stream",
     "text": [
      "Workflow:\n",
      "denoised <- (<function gaussian at 0x7fb8063f3c10>, 'input', 2, None, 'nearest', 0, None, False, 4.0)\n",
      "input <- [[0.32234096 0.69840464 0.63421348 0.05747085 0.59037505]\n",
      " [0.94062159 0.24674625 0.94400615 0.13288036 0.06308853]\n",
      " [0.95856667 0.74337044 0.95607579 0.41111757 0.79971835]\n",
      " [0.17719095 0.44878529 0.62845123 0.89988808 0.68371033]\n",
      " [0.34665136 0.43961828 0.52920405 0.24968452 0.30258987]]\n",
      "\n"
     ]
    }
   ],
   "source": [
    "new_w.set(\"input\", np.random.random((5,5)))\n",
    "print(new_w)"
   ]
  },
  {
   "cell_type": "markdown",
   "id": "68ea6d9b-48b9-4591-8cf0-0744015b841e",
   "metadata": {},
   "source": [
    "The workflow is now properly configured and we can retrieve a result image."
   ]
  },
  {
   "cell_type": "code",
   "execution_count": 6,
   "id": "7a5400e4",
   "metadata": {},
   "outputs": [
    {
     "name": "stderr",
     "output_type": "stream",
     "text": [
      "/Users/haase/opt/anaconda3/envs/bio_39/lib/python3.9/site-packages/dask/core.py:119: FutureWarning: Providing the `multichannel` argument positionally to gaussian is deprecated. Use the `channel_axis` kwarg instead.\n",
      "  return func(*(_execute_task(a, cache) for a in args))\n"
     ]
    },
    {
     "data": {
      "text/plain": [
       "array([[0.52378883, 0.52135269, 0.50863417, 0.49356802, 0.48694214],\n",
       "       [0.54954715, 0.54225507, 0.52605085, 0.50690995, 0.49397172],\n",
       "       [0.54380238, 0.53942696, 0.52721196, 0.51036829, 0.49604836],\n",
       "       [0.50661303, 0.50953666, 0.50473595, 0.49291761, 0.47981934],\n",
       "       [0.45698931, 0.46559941, 0.4655568 , 0.45633288, 0.44343205]])"
      ]
     },
     "execution_count": 6,
     "metadata": {},
     "output_type": "execute_result"
    }
   ],
   "source": [
    "new_w.get(\"denoised\")"
   ]
  },
  {
   "cell_type": "code",
   "execution_count": null,
   "id": "4061e035-ef27-4537-ac22-04dd5e892693",
   "metadata": {},
   "outputs": [],
   "source": []
  }
 ],
 "metadata": {
  "kernelspec": {
   "display_name": "Python 3 (ipykernel)",
   "language": "python",
   "name": "python3"
  },
  "language_info": {
   "codemirror_mode": {
    "name": "ipython",
    "version": 3
   },
   "file_extension": ".py",
   "mimetype": "text/x-python",
   "name": "python",
   "nbconvert_exporter": "python",
   "pygments_lexer": "ipython3",
   "version": "3.9.0"
  }
 },
 "nbformat": 4,
 "nbformat_minor": 5
}
