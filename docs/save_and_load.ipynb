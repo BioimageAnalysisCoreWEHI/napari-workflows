{
 "cells": [
  {
   "cell_type": "code",
   "execution_count": null,
   "id": "f4c98c95",
   "metadata": {},
   "outputs": [],
   "source": [
    "from napari_workflows import Workflow, load_workflow, save_workflow\n",
    "\n",
    "from skimage.io import imread, imshow\n",
    "from skimage.filters import gaussian\n",
    "import numpy as np"
   ]
  },
  {
   "cell_type": "code",
   "execution_count": null,
   "id": "e2d741d1-cb65-48f8-83e0-f3c91541a9e5",
   "metadata": {},
   "outputs": [],
   "source": [
    "w = Workflow()\n",
    "\n",
    "# define denoising\n",
    "w.set(\"denoised\", gaussian, \"input\", sigma=2)\n",
    "\n",
    "w.set(\"input\", np.random.random((3, 3)))\n",
    "\n",
    "print(str(w))"
   ]
  },
  {
   "cell_type": "code",
   "execution_count": null,
   "id": "dbfed884",
   "metadata": {},
   "outputs": [],
   "source": [
    "filename = \"test.yaml\"\n",
    "\n",
    "save_workflow(w, filename)"
   ]
  },
  {
   "cell_type": "code",
   "execution_count": null,
   "id": "24006ceb",
   "metadata": {},
   "outputs": [],
   "source": [
    "new_w = load_workflow(filename)\n",
    "print(new_w)"
   ]
  },
  {
   "cell_type": "code",
   "execution_count": null,
   "id": "7a5400e4",
   "metadata": {},
   "outputs": [],
   "source": []
  }
 ],
 "metadata": {
  "kernelspec": {
   "display_name": "Python 3 (ipykernel)",
   "language": "python",
   "name": "python3"
  },
  "language_info": {
   "codemirror_mode": {
    "name": "ipython",
    "version": 3
   },
   "file_extension": ".py",
   "mimetype": "text/x-python",
   "name": "python",
   "nbconvert_exporter": "python",
   "pygments_lexer": "ipython3",
   "version": "3.9.0"
  }
 },
 "nbformat": 4,
 "nbformat_minor": 5
}
