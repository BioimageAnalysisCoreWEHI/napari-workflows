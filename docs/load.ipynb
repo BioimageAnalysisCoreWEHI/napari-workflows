{
 "cells": [
  {
   "cell_type": "markdown",
   "id": "c1dad322-5f14-4d25-9dee-9e9f098fc96a",
   "metadata": {},
   "source": [
    "# Loading workflows"
   ]
  },
  {
   "cell_type": "code",
   "execution_count": 1,
   "id": "f4c98c95",
   "metadata": {},
   "outputs": [],
   "source": [
    "from napari_workflows import Workflow, load_workflow\n",
    "import numpy as np"
   ]
  },
  {
   "cell_type": "markdown",
   "id": "d84ff1be-acfc-4766-b5d5-01d445aaa0f3",
   "metadata": {},
   "source": [
    "For loading a workflow, we only need to know its filename."
   ]
  },
  {
   "cell_type": "code",
   "execution_count": 2,
   "id": "24006ceb",
   "metadata": {},
   "outputs": [
    {
     "name": "stdout",
     "output_type": "stream",
     "text": [
      "Workflow:\n",
      "denoised <- (<function gaussian at 0x7f82d8310430>, 'input', 2, None, 'nearest', 0, None, False, 4.0)\n",
      "\n"
     ]
    }
   ],
   "source": [
    "filename = \"test.yaml\"\n",
    "\n",
    "new_w = load_workflow(filename)\n",
    "print(new_w)"
   ]
  },
  {
   "cell_type": "markdown",
   "id": "143fe5d5-124c-4cd4-8daf-2eac7cbaba6c",
   "metadata": {},
   "source": [
    "Before we can execute the workflow, we need to set the input image."
   ]
  },
  {
   "cell_type": "code",
   "execution_count": 3,
   "id": "2242afbe-e852-41b4-b45e-32ca7b66cf26",
   "metadata": {},
   "outputs": [],
   "source": [
    "new_w.set(\"input\", np.random.random((5,5)))"
   ]
  },
  {
   "cell_type": "code",
   "execution_count": 4,
   "id": "7a5400e4",
   "metadata": {},
   "outputs": [
    {
     "name": "stderr",
     "output_type": "stream",
     "text": [
      "/Users/haase/opt/anaconda3/envs/bio_39/lib/python3.9/site-packages/dask/core.py:119: FutureWarning: Providing the `multichannel` argument positionally to gaussian is deprecated. Use the `channel_axis` kwarg instead.\n",
      "  return func(*(_execute_task(a, cache) for a in args))\n"
     ]
    },
    {
     "data": {
      "text/plain": [
       "array([[0.60909178, 0.59456176, 0.58501663, 0.5819882 , 0.5819732 ],\n",
       "       [0.51481119, 0.52861161, 0.54856128, 0.57241736, 0.59494038],\n",
       "       [0.42496757, 0.46359534, 0.50630476, 0.5486226 , 0.58598074],\n",
       "       [0.34876513, 0.40229183, 0.45541157, 0.50396675, 0.54630412],\n",
       "       [0.2888319 , 0.34590235, 0.3977803 , 0.44286686, 0.48333495]])"
      ]
     },
     "execution_count": 4,
     "metadata": {},
     "output_type": "execute_result"
    }
   ],
   "source": [
    "new_w.get(\"denoised\")"
   ]
  },
  {
   "cell_type": "code",
   "execution_count": null,
   "id": "4061e035-ef27-4537-ac22-04dd5e892693",
   "metadata": {},
   "outputs": [],
   "source": []
  }
 ],
 "metadata": {
  "kernelspec": {
   "display_name": "Python 3 (ipykernel)",
   "language": "python",
   "name": "python3"
  },
  "language_info": {
   "codemirror_mode": {
    "name": "ipython",
    "version": 3
   },
   "file_extension": ".py",
   "mimetype": "text/x-python",
   "name": "python",
   "nbconvert_exporter": "python",
   "pygments_lexer": "ipython3",
   "version": "3.9.0"
  }
 },
 "nbformat": 4,
 "nbformat_minor": 5
}
