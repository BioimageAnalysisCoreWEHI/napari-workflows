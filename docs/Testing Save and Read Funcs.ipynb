{
 "cells": [
  {
   "cell_type": "code",
   "execution_count": 2,
   "id": "721df3e4",
   "metadata": {},
   "outputs": [
    {
     "name": "stdout",
     "output_type": "stream",
     "text": [
      "Workflow:\n",
      "denoised <- (<function gaussian at 0x000002686C6AF370>, 'input', 2, None, 'nearest', 0, None, False, 4.0)\n",
      "input <- [[ 40  32  24 ... 216 200 200]\n",
      " [ 56  40  24 ... 232 216 216]\n",
      " [ 64  48  24 ... 240 232 232]\n",
      " ...\n",
      " [ 72  80  80 ...  48  48  48]\n",
      " [ 80  80  80 ...  48  48  48]\n",
      " [ 96  88  80 ...  48  48  48]]\n",
      "\n"
     ]
    }
   ],
   "source": [
    "from napari_workflows import Workflow\n",
    "\n",
    "from skimage.io import imread, imshow\n",
    "from skimage.filters import gaussian\n",
    "\n",
    "w = Workflow()\n",
    "\n",
    "# define denoising\n",
    "w.set(\"denoised\", gaussian, \"input\", sigma=2)\n",
    "\n",
    "w.set(\"input\", imread('C:/Users/ryans/Desktop/blobs.tif'))\n",
    "\n",
    "print(str(w))"
   ]
  },
  {
   "cell_type": "code",
   "execution_count": 5,
   "id": "ea0222f7",
   "metadata": {},
   "outputs": [],
   "source": [
    "def save_workflow(workflow, filename):\n",
    "    from yaml import dump\n",
    "    with open(filename + '.yaml', 'w') as stream:\n",
    "        dump(workflow,stream)\n",
    "\n",
    "name = 'C:/Users/ryans/Desktop/workflow'\n",
    "save_workflow(w,name)"
   ]
  },
  {
   "cell_type": "code",
   "execution_count": 6,
   "id": "bd97ea4b",
   "metadata": {},
   "outputs": [
    {
     "name": "stdout",
     "output_type": "stream",
     "text": [
      "Workflow:\n",
      "denoised <- (<function gaussian at 0x000002686C6AF370>, 'input', 2, None, 'nearest', 0, None, False, 4.0)\n",
      "input <- [[ 40  32  24 ... 216 200 200]\n",
      " [ 56  40  24 ... 232 216 216]\n",
      " [ 64  48  24 ... 240 232 232]\n",
      " ...\n",
      " [ 72  80  80 ...  48  48  48]\n",
      " [ 80  80  80 ...  48  48  48]\n",
      " [ 96  88  80 ...  48  48  48]]\n",
      "\n"
     ]
    }
   ],
   "source": [
    "def load_workflow(filename):\n",
    "    from yaml import unsafe_load\n",
    "    with open(filename, \"rb\") as stream:\n",
    "        return unsafe_load(stream)\n",
    "    \n",
    "new_w = load_workflow(name + '.yaml')\n",
    "print(new_w)"
   ]
  },
  {
   "cell_type": "code",
   "execution_count": null,
   "id": "0fe8b01b",
   "metadata": {},
   "outputs": [],
   "source": []
  }
 ],
 "metadata": {
  "kernelspec": {
   "display_name": "Python 3 (ipykernel)",
   "language": "python",
   "name": "python3"
  },
  "language_info": {
   "codemirror_mode": {
    "name": "ipython",
    "version": 3
   },
   "file_extension": ".py",
   "mimetype": "text/x-python",
   "name": "python",
   "nbconvert_exporter": "python",
   "pygments_lexer": "ipython3",
   "version": "3.10.2"
  }
 },
 "nbformat": 4,
 "nbformat_minor": 5
}
